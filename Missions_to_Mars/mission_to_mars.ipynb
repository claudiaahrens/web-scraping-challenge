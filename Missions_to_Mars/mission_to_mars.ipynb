{
 "cells": [
  {
   "cell_type": "code",
   "execution_count": 1,
   "metadata": {},
   "outputs": [],
   "source": [
    "import pandas as pd\n",
    "from bs4 import BeautifulSoup as bs\n",
    "import requests\n",
    "from splinter import Browser\n",
    "import time"
   ]
  },
  {
   "cell_type": "code",
   "execution_count": 2,
   "metadata": {},
   "outputs": [],
   "source": [
    "nasa_url = \"https://mars.nasa.gov/news/?page=0&per_page=40&order=publish_date+desc%2Ccreated_at+desc&search=&category=19%2C165%2C184%2C204&blank_scope=Latest\"\n",
    "browser = Browser ('chrome', headless=False)\n",
    "browser.visit(nasa_url)\n",
    "time.sleep(2)\n",
    "html = browser.html\n",
    "soup = bs(html, 'html.parser')\n"
   ]
  },
  {
   "cell_type": "code",
   "execution_count": 3,
   "metadata": {},
   "outputs": [
    {
     "name": "stdout",
     "output_type": "stream",
     "text": [
      "[{'title': \"NASA's Briefcase-Size MarCO Satellite Picks Up Honors\", 'paragraph': 'The twin spacecraft, the first of their kind to fly into deep space, earn a Laureate from Aviation Week & Space Technology.'}, {'title': 'Global Storms on Mars Launch Dust Towers Into the Sky', 'paragraph': 'A Mars Dust Tower Stands Out Dust storms are common on Mars. But every decade or so, something unpredictable happens: a series of runaway storms break out, covering the entire planet in a dusty haze.'}, {'title': 'NASA Updates Mars 2020 Mission Environmental Review', 'paragraph': 'NASA and the Department of Energy have completed a more detailed risk analysis for the Mars 2020 rover launch from Florida.'}, {'title': 'Two of a Space Kind: Apollo 12 and Mars 2020', 'paragraph': 'Apollo 12 and the upcoming Mars 2020 mission may be separated by half a century, but they share several goals unique in the annals of space exploration.'}, {'title': 'Mars Scientists Investigate Ancient Life in Australia', 'paragraph': \"Teams with NASA's Mars 2020 and ESA's ExoMars practiced hunting for fossilized microbial life in the Australian Outback in preparation for their Red Planet missions. \"}, {'title': \"NASA's Mars 2020 Will Hunt for Microscopic Fossils\", 'paragraph': \"A new paper identifies a ring of minerals at the rover's landing site that are ideal for fossilizing microbial life.\"}, {'title': 'With Mars Methane Mystery Unsolved, Curiosity Serves Scientists a New One: Oxygen', 'paragraph': 'For the first time in the history of space exploration, scientists have measured the seasonal changes in the gases that fill the air directly above the surface of Gale Crater on Mars. '}, {'title': \"NASA's Mars 2020 Heads Into the Test Chamber\", 'paragraph': 'In this time-lapse video taken at JPL, engineers move the Mars 2020 rover into a large vacuum chamber for testing in Mars-like environmental conditions.'}, {'title': \"Screening Soon: 'The Pathfinders' Trains Lens on Mars\", 'paragraph': 'With the Mars 2020 mission ramping up, the documentary — the first of four about past JPL missions to the Red Planet to be shown at Caltech — tells a gripping backstory.'}, {'title': \"InSight's 'Mole' Team Peers into the Pit\", 'paragraph': 'Efforts to save the heat probe continue.'}, {'title': \"Common Questions about InSight's 'Mole'\", 'paragraph': 'There\\'s a new plan to get InSight\\'s \"mole\" moving again. The following Q&As with two members of the team answer some of the most common questions about the burrowing device, part of a science instrument called the Heat Flow and Physical Properties Package (HP3).'}, {'title': 'Mars 2020 Stands on Its Own Six Wheels', 'paragraph': \"In time-lapse video, taken at JPL, captures the first time NASA's Mars 2020 rover carries its full weight on its legs and wheels.\"}, {'title': 'New Selfie Shows Curiosity, the Mars Chemist', 'paragraph': 'The NASA rover performed a special chemistry experiment at the location captured in its newest self-portrait.'}, {'title': 'Naming a NASA Mars Rover Can Change Your Life', 'paragraph': 'Want to name the robotic scientist NASA is sending to Mars in 2020? The student who named Curiosity — the rover currently exploring Mars — will tell you this is an opportunity worth taking.'}, {'title': 'Mars 2020 Unwrapped and Ready for More Testing', 'paragraph': \"In time-lapse video, bunny-suited engineers remove the inner layer of protective foil on NASA's Mars 2020 rover after it was relocated for testing.\"}, {'title': \"HiRISE Views NASA's InSight and Curiosity on Mars\", 'paragraph': 'New images taken from space offer the clearest orbital glimpse yet of InSight as well as a view of Curiosity rolling along.'}, {'title': \"NASA's Curiosity Rover Finds an Ancient Oasis on Mars\", 'paragraph': \"New evidence suggests salty, shallow ponds once dotted a Martian crater — a sign of the planet's drying climate.\"}, {'title': \"NASA's Mars 2020 Rover Tests Descent-Stage Separation\", 'paragraph': \"A crane lifts the rocket-powered descent stage away from NASA's Mars 2020 rover after technicians tested the pyrotechnic charges that separate the two spacecraft.\"}, {'title': \"NASA's Push to Save the Mars InSight Lander's Heat Probe\", 'paragraph': \"The scoop on the end of the spacecraft's robotic arm will be used to 'pin' the mole against the wall of its hole.\"}, {'title': \"NASA's InSight 'Hears' Peculiar Sounds on Mars\", 'paragraph': 'Listen to the marsquakes and other, less-expected sounds that the Mars lander has been detecting.'}, {'title': 'NASA Mars Mission Connects With Bosnian and Herzegovinian Town', 'paragraph': 'A letter from NASA was presented to the mayor of Jezero, Bosnia-Herzegovina, honoring the connection between the town and Jezero Crater, the Mars 2020 rover landing site.'}, {'title': \"Deadline Closing for Names to Fly on NASA's Next Mars Rover\", 'paragraph': 'You have until Sept. 30 to send your names to Mars aboard the Mars 2020 rover. '}, {'title': 'NASA Wins Two Emmy Awards for Interactive Mission Coverage', 'paragraph': \"NASA-JPL's coverage of the Mars InSight landing earns one of the two wins, making this the NASA center's second Emmy.\"}, {'title': \"NASA's Mars 2020 Comes Full Circle\", 'paragraph': \"Aiming to pinpoint the Martian vehicle's center of gravity, engineers took NASA's 2,300-pound Mars 2020 rover for a spin in the clean room at JPL. \"}, {'title': 'NASA Invites Students to Name Mars 2020 Rover', 'paragraph': \"Through Nov. 1, K-12 students in the U.S. are encouraged to enter an essay contest to name NASA's next Mars rover.\"}, {'title': \"NASA's Mars Helicopter Attached to Mars 2020 Rover \", 'paragraph': 'The helicopter will be first aircraft to perform flight tests on another planet.'}, {'title': \"What's Mars Solar Conjunction, and Why Does It Matter?\", 'paragraph': 'NASA spacecraft at Mars are going to be on their own for a few weeks when the Sun comes between Mars and Earth, interrupting communications.'}, {'title': 'Scientists Explore Outback as Testbed for Mars ', 'paragraph': \"Australia provides a great place for NASA's Mars 2020 and the ESA-Roscosmos ExoMars scientists to hone techniques in preparation for searching for signs ancient life on Mars.\"}, {'title': \"NASA-JPL Names 'Rolling Stones Rock' on Mars\", 'paragraph': \"NASA's Mars InSight mission honored one of the biggest bands of all time at Pasadena concert.\"}, {'title': \"Robotic Toolkit Added to NASA's Mars 2020 Rover\", 'paragraph': \"The bit carousel, which lies at the heart of the rover's Sample Caching System, is now aboard NASA's newest rover. \"}, {'title': \"Space Samples Link NASA's Apollo 11 and Mars 2020\", 'paragraph': \"While separated by half a century, NASA's Apollo 11 and Mars 2020 missions share the same historic goal: returning samples to Earth.\"}, {'title': 'Small Satellite Mission of the Year', 'paragraph': 'The first interplanetary CubeSats were recognized by the engineering community with the 2019 Small Satellite Mission of the Year award.'}, {'title': \"NASA 'Optometrists' Verify Mars 2020 Rover's 20/20 Vision\", 'paragraph': 'Mars 2020 rover underwent an eye exam after several cameras were installed on the rover.'}, {'title': 'New Finds for Mars Rover, Seven Years After Landing', 'paragraph': 'NASA\\'s Curiosity rover is discovering odd rocks halfway into a region called the \"clay-bearing unit.\"'}, {'title': 'MEDLI2 Installation on Mars 2020 Aeroshell Begins', 'paragraph': \"Hardware installed onto NASA's Mars 2020 entry vehicle this week will help to increase the safety of future Mars landings.\"}, {'title': \"NASA's Mars 2020 Rover Does Biceps Curls \", 'paragraph': \"In this time-lapse video, the robotic arm on NASA's Mars 2020 rover maneuvers its 88-pound (40-kilogram) sensor-laden turret as it moves from a deployed to stowed configuration.\"}, {'title': \"Fueling of NASA's Mars 2020 Rover Power System Begins\", 'paragraph': \"NASA gives the go-ahead to fuel the Mars 2020 rover's Multi-Mission Radioisotope Thermoelectric Generator, which will power rover and help keep it warm while exploring Mars.\"}, {'title': 'What Does a Marsquake Look Like?', 'paragraph': 'InSight scientists used a special \"shake room\" to demonstrate the differences between quakes on Earth, the Moon and Mars.'}, {'title': 'Mars 2020 Rover: T-Minus One Year and Counting ', 'paragraph': \"The launch period for NASA's next rover, Mars 2020, opens exactly one year from today, July 17, 2020, and extends through Aug. 5, 2020.\"}, {'title': 'NASA Racks Up Two Emmy Nominations for Mission Coverage', 'paragraph': \"JPL's coverage of the Mars InSight mission is among the efforts that will be up for an award in mid-September.\"}]\n"
     ]
    }
   ],
   "source": [
    "news = soup.find_all('div', class_='list_text')\n",
    "mars_news = []\n",
    "for news_item in news:\n",
    "    news_title = news_item.find('div', class_='content_title').text\n",
    "    news_paragraph = news_item.find('div', class_='article_teaser_body').text\n",
    "    mars_news.append({'title': news_title, 'paragraph' : news_paragraph})\n",
    "print(mars_news)"
   ]
  },
  {
   "cell_type": "code",
   "execution_count": 4,
   "metadata": {},
   "outputs": [],
   "source": [
    "featured_mars_url = 'https://www.jpl.nasa.gov/spaceimages/?search=&category=Mars'\n",
    "browser = Browser ('chrome', headless=False)\n",
    "browser.visit(featured_mars_url)\n",
    "time.sleep(2)\n",
    "html = browser.html\n",
    "soup = bs(html, 'html.parser')"
   ]
  },
  {
   "cell_type": "code",
   "execution_count": 5,
   "metadata": {},
   "outputs": [
    {
     "data": {
      "text/plain": [
       "'https://www.jpl.nasa.gov/spaceimages/images/mediumsize/PIA17046_ip.jpg'"
      ]
     },
     "execution_count": 5,
     "metadata": {},
     "output_type": "execute_result"
    }
   ],
   "source": [
    "base_url = 'https://www.jpl.nasa.gov'\n",
    "full_image_button = soup.find('a', id=\"full_image\")\n",
    "full_href = full_image_button.get('data-fancybox-href')\n",
    "featured_image_url = base_url + full_href\n",
    "browser.quit()\n",
    "featured_image_url"
   ]
  },
  {
   "cell_type": "code",
   "execution_count": 6,
   "metadata": {},
   "outputs": [],
   "source": [
    "twitter_mars_url = 'https://twitter.com/marswxreport?lang=en'\n",
    "browser = Browser ('chrome', headless=False)\n",
    "browser.visit(twitter_mars_url)\n",
    "time.sleep(2)\n",
    "html = browser.html\n",
    "soup = bs(html, 'html.parser')"
   ]
  },
  {
   "cell_type": "code",
   "execution_count": 7,
   "metadata": {},
   "outputs": [
    {
     "data": {
      "text/plain": [
       "'InSight sol 363 (2019-12-04) low -99.8ºC (-147.6ºF) high -21.1ºC (-5.9ºF)\\nwinds from the SSE at 5.8 m/s (13.0 mph) gusting to 20.3 m/s (45.4 mph)\\npressure at 6.60 hPapic.twitter.com/pKG1TNMmQ2'"
      ]
     },
     "execution_count": 7,
     "metadata": {},
     "output_type": "execute_result"
    }
   ],
   "source": [
    "mars_weather = soup.find('p', class_='TweetTextSize').text\n",
    "browser.quit()\n",
    "mars_weather"
   ]
  },
  {
   "cell_type": "code",
   "execution_count": 8,
   "metadata": {},
   "outputs": [
    {
     "data": {
      "text/plain": [
       "[{'title': 'Cerberus Hemisphere Enhanced',\n",
       "  'img_url': 'http://astropedia.astrogeology.usgs.gov/download/Mars/Viking/cerberus_enhanced.tif/full.jpg'},\n",
       " {'title': 'Schiaparelli Hemisphere Enhanced',\n",
       "  'img_url': 'http://astropedia.astrogeology.usgs.gov/download/Mars/Viking/schiaparelli_enhanced.tif/full.jpg'},\n",
       " {'title': 'Syrtis Major Hemisphere Enhanced',\n",
       "  'img_url': 'http://astropedia.astrogeology.usgs.gov/download/Mars/Viking/syrtis_major_enhanced.tif/full.jpg'},\n",
       " {'title': 'Valles Marineris Hemisphere Enhanced',\n",
       "  'img_url': 'http://astropedia.astrogeology.usgs.gov/download/Mars/Viking/valles_marineris_enhanced.tif/full.jpg'}]"
      ]
     },
     "execution_count": 8,
     "metadata": {},
     "output_type": "execute_result"
    }
   ],
   "source": [
    "mars_hemispheres_url = 'https://astrogeology.usgs.gov/search/results?q=hemisphere+enhanced&k1=target&v1=Mars'\n",
    "browser = Browser ('chrome', headless=False)\n",
    "browser.visit(mars_hemispheres_url)\n",
    "time.sleep(2)\n",
    "links = browser.find_by_css('.description .itemLink')\n",
    "hemisphere_image_urls = []\n",
    "hrefs = []\n",
    "titles = []\n",
    "for link in links:\n",
    "    hrefs.append(link['href'])\n",
    "    titles.append(link.text)\n",
    "\n",
    "current_index = 0\n",
    "for href in hrefs:\n",
    "    browser.visit(href)\n",
    "    time.sleep(1)\n",
    "    # determine url for image\n",
    "    css_image = '.downloads ul li a'\n",
    "    image_link = browser.find_by_css(css_image)[0]\n",
    "    hemisphere_image_urls.append({\"title\" : titles[current_index], \"img_url\" : image_link['href']})\n",
    "    current_index += 1\n",
    "    \n",
    "browser.quit()\n",
    "hemisphere_image_urls"
   ]
  },
  {
   "cell_type": "code",
   "execution_count": 15,
   "metadata": {},
   "outputs": [
    {
     "name": "stderr",
     "output_type": "stream",
     "text": [
      "//anaconda3/lib/python3.7/site-packages/urllib3/connectionpool.py:847: InsecureRequestWarning: Unverified HTTPS request is being made. Adding certificate verification is strongly advised. See: https://urllib3.readthedocs.io/en/latest/advanced-usage.html#ssl-warnings\n",
      "  InsecureRequestWarning)\n",
      "//anaconda3/lib/python3.7/site-packages/urllib3/connectionpool.py:847: InsecureRequestWarning: Unverified HTTPS request is being made. Adding certificate verification is strongly advised. See: https://urllib3.readthedocs.io/en/latest/advanced-usage.html#ssl-warnings\n",
      "  InsecureRequestWarning)\n"
     ]
    },
    {
     "name": "stdout",
     "output_type": "stream",
     "text": [
      "<table border=\"1\" class=\"dataframe\">\n",
      "  <thead>\n",
      "    <tr style=\"text-align: right;\">\n",
      "      <th></th>\n",
      "      <th>0</th>\n",
      "      <th>1</th>\n",
      "    </tr>\n",
      "  </thead>\n",
      "  <tbody>\n",
      "    <tr>\n",
      "      <th>0</th>\n",
      "      <td>Equatorial Diameter:</td>\n",
      "      <td>6,792 km</td>\n",
      "    </tr>\n",
      "    <tr>\n",
      "      <th>1</th>\n",
      "      <td>Polar Diameter:</td>\n",
      "      <td>6,752 km</td>\n",
      "    </tr>\n",
      "    <tr>\n",
      "      <th>2</th>\n",
      "      <td>Mass:</td>\n",
      "      <td>6.39 × 10^23 kg (0.11 Earths)</td>\n",
      "    </tr>\n",
      "    <tr>\n",
      "      <th>3</th>\n",
      "      <td>Moons:</td>\n",
      "      <td>2 (Phobos &amp; Deimos)</td>\n",
      "    </tr>\n",
      "    <tr>\n",
      "      <th>4</th>\n",
      "      <td>Orbit Distance:</td>\n",
      "      <td>227,943,824 km (1.38 AU)</td>\n",
      "    </tr>\n",
      "    <tr>\n",
      "      <th>5</th>\n",
      "      <td>Orbit Period:</td>\n",
      "      <td>687 days (1.9 years)</td>\n",
      "    </tr>\n",
      "    <tr>\n",
      "      <th>6</th>\n",
      "      <td>Surface Temperature:</td>\n",
      "      <td>-87 to -5 °C</td>\n",
      "    </tr>\n",
      "    <tr>\n",
      "      <th>7</th>\n",
      "      <td>First Record:</td>\n",
      "      <td>2nd millennium BC</td>\n",
      "    </tr>\n",
      "    <tr>\n",
      "      <th>8</th>\n",
      "      <td>Recorded By:</td>\n",
      "      <td>Egyptian astronomers</td>\n",
      "    </tr>\n",
      "  </tbody>\n",
      "</table>\n"
     ]
    }
   ],
   "source": [
    "mars_facts_url = 'https://www.space-facts.com/mars/'\n",
    "response = requests.get(mars_facts_url, verify=False)\n",
    "html = response.content\n",
    "facts_df = pd.read_html(html)\n",
    "facts_html_table = facts_df[0].to_html()\n",
    "print(facts_html_table)"
   ]
  },
  {
   "cell_type": "code",
   "execution_count": null,
   "metadata": {},
   "outputs": [],
   "source": []
  }
 ],
 "metadata": {
  "kernelspec": {
   "display_name": "Python 3",
   "language": "python",
   "name": "python3"
  },
  "language_info": {
   "codemirror_mode": {
    "name": "ipython",
    "version": 3
   },
   "file_extension": ".py",
   "mimetype": "text/x-python",
   "name": "python",
   "nbconvert_exporter": "python",
   "pygments_lexer": "ipython3",
   "version": "3.7.3"
  }
 },
 "nbformat": 4,
 "nbformat_minor": 2
}
